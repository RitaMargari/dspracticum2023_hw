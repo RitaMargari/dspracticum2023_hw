{
  "cells": [
    {
      "cell_type": "markdown",
      "id": "-1sALGY2-6I0",
      "metadata": {
        "id": "-1sALGY2-6I0"
      },
      "source": [
        "## Convolution function\n",
        "\n",
        "Let's write our own convolution function for a simple black&white image"
      ]
    },
    {
      "cell_type": "code",
      "execution_count": 11,
      "id": "abd5b1b5-699b-4db5-86a9-f810c8952574",
      "metadata": {
        "id": "abd5b1b5-699b-4db5-86a9-f810c8952574"
      },
      "outputs": [],
      "source": [
        "import numpy as np\n",
        "import math\n",
        "from matplotlib import pyplot as plt"
      ]
    },
    {
      "cell_type": "code",
      "execution_count": 12,
      "id": "4405963f-beb5-46cf-8632-52d444cbe3af",
      "metadata": {
        "id": "4405963f-beb5-46cf-8632-52d444cbe3af"
      },
      "outputs": [],
      "source": [
        "def image_convolution(matrix, kernel):\n",
        "    # TODO\n",
        "    # write a convolution function that applies a kernel across an image matrix\n",
        "\n",
        "    # potentially useful info:\n",
        "    # for numpy arrays with same dimensions, A * B multiplies each of values from A by each corresponding item in B:\n",
        "    k_h, k_w = kernel.shape\n",
        "    a_h, a_w = matrix.shape\n",
        "\n",
        "    conv_column = []\n",
        "    for j in range(a_h-k_h + 1):\n",
        "        conv_row = []\n",
        "        for i in range(a_w - k_w + 1):\n",
        "            conv_row.append(np.sum(matrix[j:j+k_w, i:i+k_h] * kernel))\n",
        "        conv_column.append(conv_row)\n",
        "\n",
        "    # print(matrix[:3,:3] * kernel)\n",
        "\n",
        "    return np.array(conv_column)"
      ]
    },
    {
      "cell_type": "markdown",
      "id": "dc7ODvHg_Lgx",
      "metadata": {
        "id": "dc7ODvHg_Lgx"
      },
      "source": [
        "This will be our image"
      ]
    },
    {
      "cell_type": "code",
      "execution_count": 13,
      "id": "fdefbf1c-8cfd-4627-bcac-5db932482b0e",
      "metadata": {
        "id": "fdefbf1c-8cfd-4627-bcac-5db932482b0e"
      },
      "outputs": [],
      "source": [
        "matrix = np.array([\n",
        "                    [ 1,-1,-1,-1, 1,-1,-1,-1, 1],\n",
        "                    [-1,-1, 0,-1,-1,-1, 0,-1,-1],\n",
        "                    [-1, 0, 0, 0,-1, 0, 0, 0,-1],\n",
        "                    [-1, 0, 0, 0, 0, 0, 0, 0,-1],\n",
        "                    [-1,-1, 0, 0, 0, 0, 0,-1,-1],\n",
        "                    [ 1,-1,-1, 0, 0, 0,-1,-1, 1],\n",
        "                    [ 1, 1,-1,-1, 0,-1,-1, 1, 1],\n",
        "                    [ 1, 1, 1,-1,-1,-1, 1, 1, 1]\n",
        "                  ])"
      ]
    },
    {
      "cell_type": "code",
      "execution_count": 14,
      "id": "qP9XKEQsxABL",
      "metadata": {
        "id": "qP9XKEQsxABL"
      },
      "outputs": [
        {
          "data": {
            "text/plain": [
              "<matplotlib.image.AxesImage at 0x7f4517f553d0>"
            ]
          },
          "execution_count": 14,
          "metadata": {},
          "output_type": "execute_result"
        },
        {
          "data": {
            "image/png": "[encoded data removed]",
            "text/plain": [
              "<Figure size 432x288 with 1 Axes>"
            ]
          },
          "metadata": {
            "needs_background": "light"
          },
          "output_type": "display_data"
        }
      ],
      "source": [
        "plt.imshow(matrix, cmap='gray')"
      ]
    },
    {
      "cell_type": "markdown",
      "id": "N5M4QvXf_Qa-",
      "metadata": {
        "id": "N5M4QvXf_Qa-"
      },
      "source": [
        "These are kernels we can use:"
      ]
    },
    {
      "cell_type": "code",
      "execution_count": 15,
      "id": "f2a5e3bc-9b6e-40cd-bbe4-71096cb80574",
      "metadata": {
        "id": "f2a5e3bc-9b6e-40cd-bbe4-71096cb80574"
      },
      "outputs": [],
      "source": [
        "kernel_1 = np.array([[  0, 0.2,   0],\n",
        "                     [0.2,   1, 0.2],\n",
        "                     [  0, 0.2,   0]])\n",
        "\n",
        "kernel_2 = np.array([[ 0, -1,  0],\n",
        "                     [-1,  4, -1],\n",
        "                     [ 0, -1,  0]])\n",
        "\n",
        "kernel_3 = np.array([[ -1, -1, -1],\n",
        "                     [  2,  2,  2],\n",
        "                     [ -1, -1, -1]])"
      ]
    },
    {
      "cell_type": "markdown",
      "id": "RCxJLUecG7rK",
      "metadata": {
        "id": "RCxJLUecG7rK"
      },
      "source": [
        "Apply convolution to our image matrix"
      ]
    },
    {
      "cell_type": "code",
      "execution_count": 16,
      "id": "f4ee979e-9ee9-44a2-9b4f-2dd90b24173c",
      "metadata": {
        "id": "f4ee979e-9ee9-44a2-9b4f-2dd90b24173c"
      },
      "outputs": [
        {
          "data": {
            "text/plain": [
              "array([[-1.4, -0.6, -1.4, -1.4, -1.4, -0.6, -1.4],\n",
              "       [-0.4,  0. , -0.4, -1.2, -0.4,  0. , -0.4],\n",
              "       [-0.4,  0. ,  0. , -0.2,  0. ,  0. , -0.4],\n",
              "       [-1.4, -0.4,  0. ,  0. ,  0. , -0.4, -1.4],\n",
              "       [-1. , -1.4, -0.4,  0. , -0.4, -1.4, -1. ],\n",
              "       [ 1. , -1. , -1.4, -0.6, -1.4, -1. ,  1. ]])"
            ]
          },
          "execution_count": 16,
          "metadata": {},
          "output_type": "execute_result"
        }
      ],
      "source": [
        "result_1 = image_convolution(matrix, kernel_1)\n",
        "result_1"
      ]
    },
    {
      "cell_type": "markdown",
      "id": "m6qJK_Hl_jkX",
      "metadata": {
        "id": "m6qJK_Hl_jkX"
      },
      "source": [
        "Show the result of convolution"
      ]
    },
    {
      "cell_type": "code",
      "execution_count": 17,
      "id": "wPpx6srVz-AH",
      "metadata": {
        "id": "wPpx6srVz-AH"
      },
      "outputs": [
        {
          "data": {
            "text/plain": [
              "<matplotlib.image.AxesImage at 0x7f4517ecb610>"
            ]
          },
          "execution_count": 17,
          "metadata": {},
          "output_type": "execute_result"
        },
        {
          "data": {
            "image/png": "[encoded data removed]",
            "text/plain": [
              "<Figure size 432x288 with 1 Axes>"
            ]
          },
          "metadata": {
            "needs_background": "light"
          },
          "output_type": "display_data"
        }
      ],
      "source": [
        "plt.imshow(result_1, cmap='gray')"
      ]
    },
    {
      "cell_type": "code",
      "execution_count": 18,
      "id": "a248714f",
      "metadata": {},
      "outputs": [
        {
          "data": {
            "text/plain": [
              "<matplotlib.image.AxesImage at 0x7f4517e3eac0>"
            ]
          },
          "execution_count": 18,
          "metadata": {},
          "output_type": "execute_result"
        },
        {
          "data": {
            "image/png": "[encoded data removed]",
            "text/plain": [
              "<Figure size 432x288 with 1 Axes>"
            ]
          },
          "metadata": {
            "needs_background": "light"
          },
          "output_type": "display_data"
        }
      ],
      "source": [
        "result_2 = image_convolution(matrix, kernel_2)\n",
        "plt.imshow(result_2, cmap='gray')"
      ]
    },
    {
      "cell_type": "code",
      "execution_count": 19,
      "id": "e420786b",
      "metadata": {},
      "outputs": [
        {
          "data": {
            "text/plain": [
              "<matplotlib.image.AxesImage at 0x7f4517dbe730>"
            ]
          },
          "execution_count": 19,
          "metadata": {},
          "output_type": "execute_result"
        },
        {
          "data": {
            "image/png": "[encoded data removed]",
            "text/plain": [
              "<Figure size 432x288 with 1 Axes>"
            ]
          },
          "metadata": {
            "needs_background": "light"
          },
          "output_type": "display_data"
        }
      ],
      "source": [
        "result_3 = image_convolution(matrix, kernel_3)\n",
        "plt.imshow(result_3, cmap='gray')"
      ]
    }
  ],
  "metadata": {
    "colab": {
      "provenance": []
    },
    "kernelspec": {
      "display_name": "common_venv",
      "language": "python",
      "name": "python3"
    },
    "language_info": {
      "codemirror_mode": {
        "name": "ipython",
        "version": 3
      },
      "file_extension": ".py",
      "mimetype": "text/x-python",
      "name": "python",
      "nbconvert_exporter": "python",
      "pygments_lexer": "ipython3",
      "version": "3.9.16"
    }
  },
  "nbformat": 4,
  "nbformat_minor": 5
}
